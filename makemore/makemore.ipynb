{
 "cells": [
  {
   "cell_type": "code",
   "execution_count": 62,
   "metadata": {},
   "outputs": [
    {
     "name": "stdout",
     "output_type": "stream",
     "text": [
      "tensor([[1., 0., 0.,  ..., 0., 0., 0.],\n",
      "        [0., 0., 0.,  ..., 0., 0., 0.],\n",
      "        [0., 0., 0.,  ..., 0., 0., 0.],\n",
      "        ...,\n",
      "        [0., 0., 0.,  ..., 0., 1., 0.],\n",
      "        [0., 0., 0.,  ..., 0., 0., 1.],\n",
      "        [0., 0., 0.,  ..., 1., 0., 0.]])\n"
     ]
    },
    {
     "data": {
      "text/plain": [
       "torch.Size([228146, 27])"
      ]
     },
     "execution_count": 62,
     "metadata": {},
     "output_type": "execute_result"
    }
   ],
   "source": [
    "import torch\n",
    "import torch.nn.functional as F\n",
    "\n",
    "words = open(\"names.txt\").read().splitlines()\n",
    "\n",
    "letters = sorted(list(set(''.join(words)))) #all letters from words\n",
    "\n",
    "stoi = {l:i+1 for i, l in enumerate(letters)}\n",
    "stoi['.'] = 0 #add '.' as start or end of the word\n",
    "itos = {i:l for l, i in stoi.items()}\n",
    "num_letters = len(stoi)\n",
    "\n",
    "xs, ys = [], []\n",
    "\n",
    "for word in words:\n",
    "  chars = ['.'] + list(word) + ['.']\n",
    "  for ch1, ch2 in zip(chars, chars[1:]):\n",
    "      xs.append(stoi[ch1])\n",
    "      ys.append(stoi[ch2])\n",
    "      \n",
    "xs = torch.tensor(xs)\n",
    "ys = torch.tensor(ys)\n",
    "\n",
    "xenc = F.one_hot(xs, num_classes=num_letters).float()\n",
    "print(xenc)\n",
    "xenc.shape"
   ]
  },
  {
   "cell_type": "code",
   "execution_count": 42,
   "metadata": {},
   "outputs": [],
   "source": [
    "g = torch.Generator().manual_seed(2147483647)\n",
    "W = torch.randn((num_letters, num_letters), generator=g, requires_grad=True)"
   ]
  },
  {
   "cell_type": "code",
   "execution_count": 72,
   "metadata": {},
   "outputs": [
    {
     "name": "stdout",
     "output_type": "stream",
     "text": [
      "2.466810464859009\n",
      "2.466702461242676\n",
      "2.4665966033935547\n"
     ]
    }
   ],
   "source": [
    "# gradient descent, training\n",
    "learning_rate = 50.0\n",
    "probs = []\n",
    "epoch = 20\n",
    "num = xs.nelement()\n",
    "\n",
    "for _ in range(epoch):\n",
    "  # forward pass\n",
    "  logits = xenc @ W # predict log-counts\n",
    "  counts = logits.exp() # counts, equivalent to N\n",
    "  probs = counts / counts.sum(1, keepdims=True) # probabilities for next character\n",
    "  \n",
    "  loss = -probs[torch.arange(num), ys].log().mean() #+ 0.01*(W**2).mean()\n",
    "  print(loss.item())\n",
    "  \n",
    "  # backward pass\n",
    "  W.grad = None # set to zero the gradient\n",
    "  loss.backward()\n",
    "  \n",
    "  # update\n",
    "  W.data -= learning_rate * W.grad"
   ]
  },
  {
   "cell_type": "code",
   "execution_count": 78,
   "metadata": {},
   "outputs": [
    {
     "name": "stdout",
     "output_type": "stream",
     "text": [
      "klan\n",
      "cin\n",
      "ynaki\n",
      "ldalmorsama\n",
      "are\n"
     ]
    }
   ],
   "source": [
    "def generateName(g):\n",
    "    result = ''\n",
    "    ind = 0\n",
    "\n",
    "    while True:\n",
    "        xenc = F.one_hot(torch.tensor([ind]), num_classes=num_letters).float()\n",
    "        logits = xenc @ W # predict log-counts\n",
    "        counts = logits.exp() # counts, equivalent to N\n",
    "        probs = counts / counts.sum(1, keepdims=True) # probabilities for next character\n",
    "\n",
    "        ind = torch.multinomial(probs, num_samples=1, replacement=True, generator=g).item()\n",
    "        if ind == 0: break\n",
    "        result += itos[ind]\n",
    "\n",
    "    return result\n",
    "\n",
    "g = torch.Generator().manual_seed(21474836327)\n",
    "for _ in range(5):\n",
    "    print(generateName(g))"
   ]
  }
 ],
 "metadata": {
  "kernelspec": {
   "display_name": "Python 3",
   "language": "python",
   "name": "python3"
  },
  "language_info": {
   "codemirror_mode": {
    "name": "ipython",
    "version": 3
   },
   "file_extension": ".py",
   "mimetype": "text/x-python",
   "name": "python",
   "nbconvert_exporter": "python",
   "pygments_lexer": "ipython3",
   "version": "3.10.9"
  },
  "orig_nbformat": 4,
  "vscode": {
   "interpreter": {
    "hash": "869577edc9a5330cfa2f218daa4353a8f9a21eddeff266e99a14f33e42ad2def"
   }
  }
 },
 "nbformat": 4,
 "nbformat_minor": 2
}
