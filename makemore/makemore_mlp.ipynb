{
 "cells": [
  {
   "cell_type": "code",
   "execution_count": 2,
   "metadata": {},
   "outputs": [],
   "source": [
    "import torch\n",
    "import torch.nn.functional as F\n",
    "import matplotlib.pyplot as plt\n",
    "%matplotlib inline\n",
    "import random\n",
    "\n",
    "words = open(\"names.txt\").read().splitlines()\n",
    "\n",
    "letters = sorted(list(set(''.join(words)))) #all letters from words\n",
    "\n",
    "stoi = {l:i+1 for i, l in enumerate(letters)}\n",
    "stoi['.'] = 0 #add '.' as start or end of the word\n",
    "itos = {i:l for l, i in stoi.items()}\n",
    "\n",
    "num_letters = len(stoi)\n",
    "block_size = 3"
   ]
  },
  {
   "cell_type": "code",
   "execution_count": 3,
   "metadata": {},
   "outputs": [],
   "source": [
    "def build_dataset(words):\n",
    "    xs, ys = [], []\n",
    "    for word in words:\n",
    "        context = [0] * block_size\n",
    "        for ch in word+'.':\n",
    "            xs.append(context)\n",
    "            nextInd = stoi[ch]\n",
    "            ys.append(nextInd)\n",
    "            context = context[1:]+[nextInd]\n",
    "            \n",
    "    return torch.tensor(xs), torch.tensor(ys)\n",
    "\n",
    "random.seed(42)\n",
    "random.shuffle(words)\n",
    "\n",
    "ind1 = int(0.8*len(words))\n",
    "ind2 = int(0.9*len(words))\n",
    "\n",
    "x_tr, y_tr = build_dataset(words[:ind1])\n",
    "x_dev, y_dev = build_dataset(words[ind1:ind2])\n",
    "x_test, y_test = build_dataset(words[ind2:])"
   ]
  },
  {
   "cell_type": "code",
   "execution_count": 43,
   "metadata": {},
   "outputs": [],
   "source": [
    "g = torch.Generator().manual_seed(2147483647)\n",
    "\n",
    "num_emb = 10\n",
    "num_hidden = 500\n",
    "num_h = num_emb*block_size\n",
    "tanh_normal = (5/3) / num_h**0.5\n",
    "\n",
    "C = torch.randn((num_letters, num_emb), generator=g)\n",
    "W1 = torch.randn((num_h, num_hidden), generator=g) * tanh_normal\n",
    "# torch.nn.init.kaiming_normal_(W1, nonlinearity='tanh')\n",
    "# b1 = torch.randn(num_hidden, generator=g) * 0.01\n",
    "W2 = torch.randn((num_hidden, num_letters), generator=g) * 0.01\n",
    "b2 = torch.zeros(num_letters)\n",
    "\n",
    "batch_normal_gain = torch.ones((1, num_hidden))\n",
    "batch_normal_bias = torch.zeros((1, num_hidden)) # instead of b1\n",
    "\n",
    "batch_mean_running = torch.zeros((1, num_hidden))\n",
    "batch_std_running = torch.ones((1, num_hidden))\n",
    "\n",
    "parameters = [C, W1, W2, b2, batch_normal_gain, batch_normal_bias]\n",
    "\n",
    "for p in parameters:\n",
    "    p.requires_grad = True"
   ]
  },
  {
   "cell_type": "code",
   "execution_count": 48,
   "metadata": {},
   "outputs": [
    {
     "name": "stdout",
     "output_type": "stream",
     "text": [
      "2.031818389892578\n"
     ]
    },
    {
     "data": {
      "text/plain": [
       "[<matplotlib.lines.Line2D at 0x1ad3118eb30>]"
      ]
     },
     "execution_count": 48,
     "metadata": {},
     "output_type": "execute_result"
    },
    {
     "data": {
      "image/png": "[encoded data removed]",
      "text/plain": [
       "<Figure size 640x480 with 1 Axes>"
      ]
     },
     "metadata": {},
     "output_type": "display_data"
    }
   ],
   "source": [
    "# lrs = []\n",
    "steps = []\n",
    "losses = []\n",
    "\n",
    "epoch=200000\n",
    "batch_size=50\n",
    "learning_rate=0.05\n",
    "\n",
    "# lre = torch.linspace(0.1, 0.001, epoch)\n",
    "momentum = 0.001\n",
    "\n",
    "for i in range(epoch):\n",
    "    # minibatch construct\n",
    "    inds = torch.randint(0, x_tr.shape[0], (batch_size,))\n",
    "    x_b, y_b = x_tr[inds], y_tr[inds]\n",
    "    \n",
    "    emb = C[x_b] # shape: batch_size, block_size, num_emb\n",
    "    embcat = emb.view(emb.shape[0], -1) # shape: (batch_size, num_h)\n",
    "    \n",
    "    # forward pass\n",
    "    h_preact = embcat @ W1 # linear hidden layer, shape: (batch_size, num_h) @ (num_h, num_hidden) + num_hidden = (batch_size, num_hidden)\n",
    "    h_mean = h_preact.mean(0, keepdim=True)\n",
    "    h_std = h_preact.std(0, keepdim=True)\n",
    "    h_preact_normal = batch_normal_gain * (h_preact - h_mean) / h_std + batch_normal_bias # batch normalization, scale and shift\n",
    "    h = torch.tanh(h_preact_normal) # hidden layer activation\n",
    "    \n",
    "    logits = h @ W2 + b2 # output layer\n",
    "    loss = F.cross_entropy(logits, y_b)\n",
    "    # print(loss.item())\n",
    "\n",
    "    with torch.no_grad():\n",
    "        batch_mean_running = (1-momentum) * batch_mean_running + momentum * h_mean\n",
    "        batch_std_running = (1-momentum) * batch_std_running + momentum * h_std\n",
    "        \n",
    "    # backward pass\n",
    "    for p in parameters:\n",
    "        p.grad = None # set to zero the gradient\n",
    "        \n",
    "    loss.backward()\n",
    "    \n",
    "    # update\n",
    "    # learning_rate = lre[i]\n",
    "    for p in parameters:\n",
    "        p.data -= learning_rate * p.grad\n",
    "        \n",
    "    # track\n",
    "    # lrs.append(learning_rate)\n",
    "    steps.append(i)\n",
    "    losses.append(loss.log10().item())\n",
    "    \n",
    "print(loss.item())\n",
    "plt.plot(steps, losses)\n",
    "\n",
    "# plt.hist(hidden_layer.view(-1).tolist(), 50)\n",
    "# plt.figure(figsize=(20,10))\n",
    "# plt.imshow(hidden_layer.abs() > 0.99, cmap='gray', interpolation='nearest')"
   ]
  },
  {
   "cell_type": "code",
   "execution_count": 49,
   "metadata": {},
   "outputs": [
    {
     "name": "stdout",
     "output_type": "stream",
     "text": [
      "train 2.04407000541687\n",
      "dev 2.1323318481445312\n"
     ]
    }
   ],
   "source": [
    "@torch.no_grad() # no grad tracking\n",
    "def get_loss(data):\n",
    "    x, y = {\n",
    "        'train': (x_tr, y_tr),\n",
    "        'dev': (x_dev, y_dev),\n",
    "        'test': (x_test, y_test)\n",
    "    }[data]\n",
    "        \n",
    "    emb = C[x]\n",
    "    h_preact = emb.view(emb.shape[0], -1) @ W1 # + b1\n",
    "    # h_mean = hidden_layer_preact.mean(0, keepdim=True)\n",
    "    # h_std = hidden_layer_preact.std(0, keepdim=True)\n",
    "    h_preact_normal = batch_normal_gain * (h_preact - batch_mean_running) / batch_std_running + batch_normal_bias\n",
    "    h = torch.tanh(h_preact_normal)\n",
    "        \n",
    "    logits = h @ W2 + b2\n",
    "    loss = F.cross_entropy(logits, y)\n",
    "    print(data, loss.item())\n",
    "\n",
    "get_loss('train')\n",
    "get_loss('dev')"
   ]
  },
  {
   "cell_type": "code",
   "execution_count": 52,
   "metadata": {},
   "outputs": [
    {
     "name": "stdout",
     "output_type": "stream",
     "text": [
      "holanir\n",
      "sam\n",
      "yasha\n",
      "rashanetu\n",
      "graith\n",
      "desreena\n",
      "rellasia\n",
      "arra\n",
      "kiah\n",
      "creselen\n"
     ]
    }
   ],
   "source": [
    "def generateName(g):\n",
    "    result = ''\n",
    "    ind = 0\n",
    "    context = [0] * block_size \n",
    "    \n",
    "    while True:\n",
    "        # emb = C[torch.tensor([context])] # shape: (1, block_size, num_emb)\n",
    "        emb = C[context] # shape: (block_size,num_emb)\n",
    "        h_preact = emb.view(1, -1) @ W1  # shape: (1,num_h) @ (num_h,num_hidden) + num_hidden = 1,num_hidden\n",
    "        \n",
    "        h_preact_normal = batch_normal_gain * (h_preact - batch_mean_running) / batch_std_running + batch_normal_bias\n",
    "        h = torch.tanh(h_preact_normal)\n",
    "    \n",
    "        logits = h @ W2 + b2 # shape: (1,num_hidden) @ (num_hidden,num_letters) + num_letters = (1,num_letters)\n",
    "        probs = F.softmax(logits, dim=1)\n",
    "\n",
    "        ind = torch.multinomial(probs, num_samples=1, generator=g).item()\n",
    "        if ind == 0: break\n",
    "        result += itos[ind]\n",
    "        context = context[1:]+[ind]\n",
    "\n",
    "    return result\n",
    "\n",
    "g = torch.Generator().manual_seed(21474836327)\n",
    "for _ in range(10):\n",
    "    print(generateName(g))"
   ]
  }
 ],
 "metadata": {
  "kernelspec": {
   "display_name": "Python 3",
   "language": "python",
   "name": "python3"
  },
  "language_info": {
   "codemirror_mode": {
    "name": "ipython",
    "version": 3
   },
   "file_extension": ".py",
   "mimetype": "text/x-python",
   "name": "python",
   "nbconvert_exporter": "python",
   "pygments_lexer": "ipython3",
   "version": "3.10.9"
  },
  "orig_nbformat": 4,
  "vscode": {
   "interpreter": {
    "hash": "869577edc9a5330cfa2f218daa4353a8f9a21eddeff266e99a14f33e42ad2def"
   }
  }
 },
 "nbformat": 4,
 "nbformat_minor": 2
}
