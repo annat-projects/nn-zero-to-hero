{
 "cells": [
  {
   "cell_type": "code",
   "execution_count": 1,
   "metadata": {},
   "outputs": [],
   "source": [
    "import torch\n",
    "import torch.nn as nn\n",
    "import torch.nn.functional as F\n",
    "import random\n",
    "import matplotlib.pyplot as plt\n",
    "%matplotlib inline"
   ]
  },
  {
   "cell_type": "code",
   "execution_count": 2,
   "metadata": {},
   "outputs": [],
   "source": [
    "with open('input.txt', 'r', encoding='utf-8') as f:\n",
    "    text = f.read()"
   ]
  },
  {
   "cell_type": "code",
   "execution_count": 3,
   "metadata": {},
   "outputs": [
    {
     "name": "stdout",
     "output_type": "stream",
     "text": [
      "size: 65 \n",
      " !$&',-.3:;?ABCDEFGHIJKLMNOPQRSTUVWXYZabcdefghijklmnopqrstuvwxyz\n"
     ]
    }
   ],
   "source": [
    "chars = sorted(list(set(text)))\n",
    "chars_size = len(chars)\n",
    "print('size:', chars_size, ''.join(chars))"
   ]
  },
  {
   "cell_type": "code",
   "execution_count": 4,
   "metadata": {},
   "outputs": [],
   "source": [
    "stoi = { c:i for i,c in enumerate(chars) }\n",
    "itos = { i:c for i,c in enumerate(chars) }\n",
    "encode = lambda str: [stoi[c] for c in str]\n",
    "decode = lambda inds: ''.join(itos[i] for i in inds)"
   ]
  },
  {
   "cell_type": "code",
   "execution_count": 5,
   "metadata": {},
   "outputs": [],
   "source": [
    "batch_size = 32\n",
    "block_size = 8\n",
    "batch_estimate = 300\n",
    "estimate_interval = 1000\n",
    "device = 'cuda' if torch.cuda.is_available() else 'cpu'"
   ]
  },
  {
   "cell_type": "code",
   "execution_count": 6,
   "metadata": {},
   "outputs": [],
   "source": [
    "data = torch.tensor(encode(text), dtype=torch.long)\n",
    "\n",
    "torch.manual_seed(1337)\n",
    "\n",
    "# split data on training and valuation\n",
    "ind = int(0.9*len(data))\n",
    "data_tr = data[:ind]\n",
    "data_val = data[ind:]\n",
    "\n",
    "def get_batch(split):\n",
    "    data = data_tr if split == 'train' else data_val\n",
    "    inds = torch.randint(0, len(data) - block_size, (batch_size,))\n",
    "    \n",
    "    x = torch.stack([data[i:i+block_size] for i in inds])\n",
    "    y = torch.stack([data[i+1:i+block_size+1] for i in inds])\n",
    "    return x.to(device), y.to(device)"
   ]
  },
  {
   "cell_type": "code",
   "execution_count": 7,
   "metadata": {},
   "outputs": [],
   "source": [
    "class BigramLanguageModel(nn.Module):\n",
    "    def __init__(self, size):\n",
    "        super().__init__()\n",
    "        self.token_embedding_table = nn.Embedding(size, size)\n",
    "        \n",
    "    def forward(self, x, targets=None):\n",
    "        logits = self.token_embedding_table(x) # [batch_size, block_size, embedding_table]\n",
    "        \n",
    "        if targets is None:\n",
    "            loss = None\n",
    "        else:\n",
    "            B,T,C = logits.shape\n",
    "            logits = logits.view(B*T, C) # ? why not B, T*C\n",
    "            targets = targets.view(-1) \n",
    "            loss = F.cross_entropy(logits, targets)\n",
    "        \n",
    "        return logits, loss\n",
    "    \n",
    "    def generate(self, ind, num_tokens):\n",
    "        for _ in range(num_tokens):\n",
    "            logits, loss = self(ind) # forward(x)\n",
    "            logits = logits[:, -1, :] # get the last character [batch_size, embedding_table]\n",
    "            probs = F.softmax(logits, dim=1)\n",
    "            ind_next = torch.multinomial(probs, num_samples=1)\n",
    "            ind = torch.cat((ind, ind_next), dim=1)\n",
    "        \n",
    "        return ind\n",
    "        "
   ]
  },
  {
   "cell_type": "code",
   "execution_count": 8,
   "metadata": {},
   "outputs": [],
   "source": [
    "model = BigramLanguageModel(chars_size)\n",
    "model = model.to(device)\n",
    "optimizer = torch.optim.AdamW(model.parameters(), lr=1e-3)"
   ]
  },
  {
   "cell_type": "code",
   "execution_count": 9,
   "metadata": {},
   "outputs": [],
   "source": [
    "@torch.no_grad()\n",
    "def estimate_loss():\n",
    "    out = {}\n",
    "    model.eval()\n",
    "    \n",
    "    for split in ['train', 'val']:\n",
    "        losses = torch.zeros(batch_estimate)\n",
    "        for i in range(batch_estimate):\n",
    "            x_b, y_b = get_batch(split)\n",
    "            logits, loss = model(x_b, y_b)\n",
    "            losses[i] = loss\n",
    "        out[split] = losses.mean().item()\n",
    "        \n",
    "    model.train()\n",
    "    return out"
   ]
  },
  {
   "cell_type": "code",
   "execution_count": 10,
   "metadata": {},
   "outputs": [
    {
     "name": "stdout",
     "output_type": "stream",
     "text": [
      "step: 0 train loss: 4.729331016540527 val loss: 4.726686000823975\n",
      "step: 1000 train loss: 3.7340946197509766 val loss: 3.7374446392059326\n",
      "step: 2000 train loss: 3.1215972900390625 val loss: 3.1260106563568115\n",
      "step: 3000 train loss: 2.801257848739624 val loss: 2.8015177249908447\n",
      "step: 4000 train loss: 2.6318860054016113 val loss: 2.648066520690918\n",
      "step: 5000 train loss: 2.5684964656829834 val loss: 2.568488597869873\n",
      "step: 6000 train loss: 2.52632474899292 val loss: 2.537660837173462\n",
      "step: 7000 train loss: 2.4904325008392334 val loss: 2.5036895275115967\n",
      "step: 8000 train loss: 2.480072259902954 val loss: 2.49685001373291\n",
      "step: 9000 train loss: 2.470869541168213 val loss: 2.489243745803833\n"
     ]
    }
   ],
   "source": [
    "steps = 10000\n",
    "for i in range(steps):\n",
    "    if i % estimate_interval == 0:\n",
    "        losses = estimate_loss()\n",
    "        print('step:', i, 'train loss:', losses['train'], 'val loss:', losses['val'])\n",
    "    \n",
    "    x_b, y_b = get_batch('train')\n",
    "    logits, loss = model.forward(x_b, y_b)\n",
    "    optimizer.zero_grad(set_to_none=True)\n",
    "    loss.backward()\n",
    "    optimizer.step()"
   ]
  },
  {
   "cell_type": "code",
   "execution_count": 11,
   "metadata": {},
   "outputs": [
    {
     "name": "stdout",
     "output_type": "stream",
     "text": [
      "\n",
      "\n",
      "\n",
      "CExfik bridcowindakis s, bth\n",
      "\n",
      "HAPORThobe d e.\n",
      "S:\n",
      "O:3 my d?\n",
      "LUCous:\n",
      "Wanthar u qur, vet?\n",
      "F dXENDoate awice my.\n",
      "\n",
      "HDEdarom oroup\n",
      "Yowh$Frtof isth ble mil ndill, ath iree sengmin lat Heriliovets, and Win nghirileranousel lind me l.\n",
      "HAshe ce hiry:\n",
      "Supr aisspllw y.\n",
      "Hurindu n Boopetelaves\n",
      "MP:\n",
      "\n",
      "Pl, d mothak\n"
     ]
    }
   ],
   "source": [
    "# generate from the model\n",
    "num_tokens = 300\n",
    "context = torch.zeros((1,1), dtype=torch.long, device=device)\n",
    "result = model.generate(context, num_tokens=num_tokens)\n",
    "print(decode(result[0].tolist()))"
   ]
  },
  {
   "cell_type": "code",
   "execution_count": 12,
   "metadata": {},
   "outputs": [
    {
     "data": {
      "text/plain": [
       "torch.Size([4, 8, 16])"
      ]
     },
     "execution_count": 12,
     "metadata": {},
     "output_type": "execute_result"
    }
   ],
   "source": [
    "# self attention\n",
    "B,T,C = 4,8,32\n",
    "head_size = 16\n",
    "\n",
    "x = torch.randn((B,T,C))\n",
    "keys = nn.Linear(C, head_size, bias=False)\n",
    "queries = nn.Linear(C, head_size, bias=False)\n",
    "values = nn.Linear(C, head_size, bias=False)\n",
    "\n",
    "k = keys(x)\n",
    "q = queries(x)\n",
    "\n",
    "weights = q @ k.transpose(-2,-1) * C**-0.5\n",
    "tril = torch.tril(torch.ones((T,T)))\n",
    "weights = weights.masked_fill(tril == 0, float('-inf'))\n",
    "weights = F.softmax(weights, dim=-1)\n",
    "\n",
    "v = values(x)\n",
    "out = weights @ v\n",
    "out.shape"
   ]
  }
 ],
 "metadata": {
  "kernelspec": {
   "display_name": "Python 3",
   "language": "python",
   "name": "python3"
  },
  "language_info": {
   "codemirror_mode": {
    "name": "ipython",
    "version": 3
   },
   "file_extension": ".py",
   "mimetype": "text/x-python",
   "name": "python",
   "nbconvert_exporter": "python",
   "pygments_lexer": "ipython3",
   "version": "3.10.9"
  },
  "orig_nbformat": 4,
  "vscode": {
   "interpreter": {
    "hash": "869577edc9a5330cfa2f218daa4353a8f9a21eddeff266e99a14f33e42ad2def"
   }
  }
 },
 "nbformat": 4,
 "nbformat_minor": 2
}
